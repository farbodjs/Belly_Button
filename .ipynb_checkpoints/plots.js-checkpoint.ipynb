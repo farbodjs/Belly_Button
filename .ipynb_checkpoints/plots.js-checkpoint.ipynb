{
 "cells": [
  {
   "cell_type": "code",
   "execution_count": null,
   "id": "0ab9b7a4",
   "metadata": {},
   "outputs": [],
   "source": [
    "function init() {\n",
    "    var selector = d3.select(\"#selDataset\");\n",
    "  \n",
    "    d3.json(\"../../json/samples.json\").then((data) => {\n",
    "      //console.log(data);\n",
    "\n",
    "      var sampleNames = data.names;\n",
    "      sampleNames.forEach((sample) => {\n",
    "        selector\n",
    "          .append(\"option\")\n",
    "          .text(sample)\n",
    "          .property(\"value\", sample);\n",
    "      });\n",
    "  })}\n",
    "\n",
    "function buildMetadata(sample) {\n",
    "    d3.json(\"../../json/samples.json\").then((data) => {\n",
    "      var metadata = data.metadata;\n",
    "      var resultArray = metadata.filter(sampleObj => sampleObj.id == sample);\n",
    "      var result = resultArray[0];\n",
    "      var PANEL = d3.select(\"#sample-metadata\");\n",
    "  \n",
    "      PANEL.html(\"\");\n",
    "      PANEL.append(\"h6\").text(result.location);\n",
    "    });\n",
    "  }  \n",
    "\n",
    "\n",
    "  \n",
    "function optionChanged(newSample) {\n",
    "    buildMetadata(newSample);\n",
    "    //buildCharts(newSample);\n",
    "}\n",
    "\n",
    "init();"
   ]
  }
 ],
 "metadata": {
  "kernelspec": {
   "display_name": "mlenv",
   "language": "python",
   "name": "mlenv"
  },
  "language_info": {
   "codemirror_mode": {
    "name": "ipython",
    "version": 3
   },
   "file_extension": ".py",
   "mimetype": "text/x-python",
   "name": "python",
   "nbconvert_exporter": "python",
   "pygments_lexer": "ipython3",
   "version": "3.7.11"
  }
 },
 "nbformat": 4,
 "nbformat_minor": 5
}
